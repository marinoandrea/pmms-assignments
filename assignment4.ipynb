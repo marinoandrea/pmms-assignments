{
 "cells": [
  {
   "cell_type": "markdown",
   "id": "9ebdf565-65cf-438a-a294-cc3faeb51a2f",
   "metadata": {},
   "source": [
    "# Data analysis for assignment 4"
   ]
  },
  {
   "cell_type": "markdown",
   "id": "ae931413-7564-440f-ac5e-3fde5c1ae3d0",
   "metadata": {},
   "source": [
    "## Import packages"
   ]
  },
  {
   "cell_type": "markdown",
   "id": "2e6908d9-3819-421d-b0ee-22629a60dc29",
   "metadata": {},
   "source": [
    "For this analysis, we need pandas for data manipulation."
   ]
  },
  {
   "cell_type": "code",
   "execution_count": null,
   "id": "df5ed824-758d-4453-99a7-1132f1758d8a",
   "metadata": {},
   "outputs": [],
   "source": [
    "import pandas as pd"
   ]
  },
  {
   "cell_type": "markdown",
   "id": "22eafc5c",
   "metadata": {},
   "source": [
    "We use Seaborn for plotting. Matplotlib is sometimes useful in tandem with seaborn because it exposes some lower-level plotting functions."
   ]
  },
  {
   "cell_type": "code",
   "execution_count": null,
   "id": "445d9da9-6f62-40df-86d5-c3d054e7a9f8",
   "metadata": {},
   "outputs": [],
   "source": [
    "import seaborn as sns\n",
    "import matplotlib.pyplot as plt\n",
    "\n",
    "sns.set(font_scale=1, style=\"whitegrid\", palette=\"tab10\")"
   ]
  },
  {
   "cell_type": "markdown",
   "id": "ae931413-7564-440f-ac5e-3fde5c1ae3d0",
   "metadata": {},
   "source": [
    "## Heat dissipation"
   ]
  },
  {
   "cell_type": "markdown",
   "id": "ae931413-7564-440f-ac5e-3fde5c1ae3d0",
   "metadata": {},
   "source": [
    "## Histogram"
   ]
  },
  {
   "cell_type": "markdown",
   "id": "ae931413-7564-440f-ac5e-3fde5c1ae3d0",
   "metadata": {},
   "source": [
    "## Convolution"
   ]
  },
  {
   "cell_type": "code",
   "execution_count": null,
   "id": "567ed4af-4ea3-4e62-95e0-c094db512951",
   "metadata": {},
   "outputs": [],
   "source": [
    "results_convolution = pd.read_csv('./data/raw/convolution.tsv', sep = '\\t')\n",
    "results_convolution['Duration'] = results_convolution['Duration'] * 1000\n",
    "\n",
    "results_convolution"
   ]
  },
  {
   "cell_type": "code",
   "execution_count": null,
   "id": "9ac9809e",
   "metadata": {},
   "outputs": [],
   "source": [
    "results_convolution_sequential = results_convolution[results_convolution['Measurement'] == 'sequential']\n",
    "results_convolution_parallel = results_convolution[results_convolution['Measurement'] == 'parallel']"
   ]
  },
  {
   "cell_type": "code",
   "execution_count": null,
   "id": "0ee9ab2d-1b5b-48a8-a8a2-1bf78984563b",
   "metadata": {},
   "outputs": [],
   "source": [
    "g = sns.barplot(data = results_convolution_parallel, x = 'GPU', y = 'Speedup', ci='sd', capsize=0.05)\n",
    "g.set_ylabel(\"Speedup\")\n",
    "g.set_xlabel(\"GPU model\")\n",
    "# g.legend(loc='center left', bbox_to_anchor=(1, 0.5))\n",
    "plt.savefig('./data/graphs/convolution_speedup_by_gpu_model_bar.pdf', dpi = 700, bbox_inches='tight')"
   ]
  },
  {
   "cell_type": "code",
   "execution_count": null,
   "id": "0ee9ab2d-1b5b-48a8-a8a2-1bf78984563b",
   "metadata": {},
   "outputs": [],
   "source": [
    "g = sns.lineplot(data = results_convolution_parallel, x = 'GPU', y = 'Speedup', ci = 'sd')\n",
    "g.set_ylabel(\"Speedup\")\n",
    "g.set_xlabel(\"GPU model\")\n",
    "plt.savefig('./data/graphs/convolution_speedup_by_gpu_model_line.pdf', dpi = 700, bbox_inches='tight')"
   ]
  },
  {
   "cell_type": "code",
   "execution_count": null,
   "id": "12f3dd54",
   "metadata": {},
   "outputs": [],
   "source": [
    "g = sns.lineplot(data = results_convolution_sequential, x = 'GPU', y = 'Duration', ci = 'sd')\n",
    "g.set_ylabel(\"Duration\")\n",
    "g.set_xlabel(\"GPU model\")\n",
    "# plt.savefig('./data/graphs/convolution_sequential_duration_by_gpu_model_line.pdf', dpi = 700, bbox_inches='tight')"
   ]
  },
  {
   "cell_type": "code",
   "execution_count": null,
   "id": "12f3dd54",
   "metadata": {},
   "outputs": [],
   "source": [
    "g = sns.lineplot(data = results_convolution_parallel, x = 'GPU', y = 'Duration', ci = 'sd')\n",
    "g.set_ylabel(\"Duration\")\n",
    "g.set_xlabel(\"GPU model\")\n",
    "plt.savefig('./data/graphs/convolution_duration_by_gpu_model_line.pdf', dpi = 700, bbox_inches='tight')"
   ]
  },
  {
   "cell_type": "code",
   "execution_count": null,
   "id": "5a729db1",
   "metadata": {},
   "outputs": [],
   "source": [
    "results_convolution_maxwell = results_convolution_parallel[results_convolution_parallel['GPU'] == 'TitanX Maxwell']\n",
    "\n",
    "results_convolution_pascal = results_convolution_parallel[results_convolution_parallel['GPU'] == 'TitanX Pascal']\n",
    "\n",
    "results_convolution_rtx2080ti = results_convolution_parallel[results_convolution_parallel['GPU'] == 'RTX 2080 Ti']"
   ]
  },
  {
   "cell_type": "code",
   "execution_count": null,
   "id": "76fad212",
   "metadata": {},
   "outputs": [],
   "source": [
    "data = []\n",
    "\n",
    "for gpu_model in ['TitanX Maxwell', 'TitanX Pascal', 'RTX 2080 Ti']:\n",
    "  par = results_convolution_parallel[results_convolution_parallel['GPU'] == gpu_model]\n",
    "  seq = results_convolution_sequential[results_convolution_sequential['GPU'] == gpu_model]\n",
    "\n",
    "  data.append({\n",
    "    'gpu_model': gpu_model,\n",
    "    'min_speedup': par['Speedup'].min(),\n",
    "    'max_speedup': par['Speedup'].max(),\n",
    "    'mean_speedup': par['Speedup'].mean(),\n",
    "    'sd_speedup': par['Speedup'].std(),\n",
    "    'min_duration': par['Duration'].min(),\n",
    "    'max_duration': par['Duration'].max(),\n",
    "    'mean_duration': par['Duration'].mean(),\n",
    "    'sd_duration': par['Duration'].std(),\n",
    "    'min_duration_sequential': seq['Duration'].min(),\n",
    "    'max_duration_sequential': seq['Duration'].max(),\n",
    "    'mean_duration_sequential': seq['Duration'].mean(),\n",
    "    'sd_duration_sequential': seq['Duration'].std(),\n",
    "  })\n",
    "\n",
    "summary = pd.DataFrame(data)\n",
    "\n",
    "summary.to_csv('./data/raw/summary_conv.tsv', sep = '\\t')\n",
    "\n",
    "summary"
   ]
  },
  {
   "cell_type": "code",
   "execution_count": null,
   "id": "906b2aa7",
   "metadata": {},
   "outputs": [],
   "source": []
  }
 ],
 "metadata": {
  "kernelspec": {
   "display_name": "Python 3 (ipykernel)",
   "language": "python",
   "name": "python3"
  },
  "language_info": {
   "codemirror_mode": {
    "name": "ipython",
    "version": 3
   },
   "file_extension": ".py",
   "mimetype": "text/x-python",
   "name": "python",
   "nbconvert_exporter": "python",
   "pygments_lexer": "ipython3",
   "version": "3.8.10"
  }
 },
 "nbformat": 4,
 "nbformat_minor": 5
}
