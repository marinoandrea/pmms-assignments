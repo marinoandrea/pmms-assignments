{
 "cells": [
  {
   "cell_type": "markdown",
   "id": "9ebdf565-65cf-438a-a294-cc3faeb51a2f",
   "metadata": {},
   "source": [
    "# Data analysis for assignment 2"
   ]
  },
  {
   "cell_type": "markdown",
   "id": "ae931413-7564-440f-ac5e-3fde5c1ae3d0",
   "metadata": {},
   "source": [
    "## Import packages"
   ]
  },
  {
   "cell_type": "markdown",
   "id": "2e6908d9-3819-421d-b0ee-22629a60dc29",
   "metadata": {},
   "source": [
    "For this analysis, we need pandas for data manipulation."
   ]
  },
  {
   "cell_type": "code",
   "execution_count": null,
   "id": "df5ed824-758d-4453-99a7-1132f1758d8a",
   "metadata": {},
   "outputs": [],
   "source": [
    "import pandas as pd"
   ]
  },
  {
   "cell_type": "markdown",
   "id": "22eafc5c",
   "metadata": {},
   "source": [
    "We use Seaborn for plotting. Matplotlib is sometimes useful in tandem with seaborn because it exposes some lower-level plotting functions."
   ]
  },
  {
   "cell_type": "code",
   "execution_count": null,
   "id": "445d9da9-6f62-40df-86d5-c3d054e7a9f8",
   "metadata": {},
   "outputs": [],
   "source": [
    "import seaborn as sns\n",
    "import matplotlib.pyplot as plt\n",
    "\n",
    "sns.set_theme(style=\"whitegrid\")\n",
    "sns.set_palette(\"tab10\")"
   ]
  },
  {
   "cell_type": "markdown",
   "id": "ae931413-7564-440f-ac5e-3fde5c1ae3d0",
   "metadata": {},
   "source": [
    "## Heat dissipation"
   ]
  },
  {
   "cell_type": "markdown",
   "id": "ae931413-7564-440f-ac5e-3fde5c1ae3d0",
   "metadata": {},
   "source": [
    "## Pipesort"
   ]
  },
  {
   "cell_type": "markdown",
   "id": "ae931413-7564-440f-ac5e-3fde5c1ae3d0",
   "metadata": {},
   "source": [
    "## Histogram"
   ]
  },
  {
   "cell_type": "code",
   "execution_count": null,
   "id": "567ed4af-4ea3-4e62-95e0-c094db512951",
   "metadata": {},
   "outputs": [],
   "source": [
    "results_histogram = pd.read_csv('./data/raw/histo.csv', sep = ',')\n",
    "results_histogram['time'] = results_histogram['time'] * 1000\n",
    "\n",
    "results_histogram"
   ]
  },
  {
   "cell_type": "code",
   "execution_count": null,
   "id": "0ee9ab2d-1b5b-48a8-a8a2-1bf78984563b",
   "metadata": {},
   "outputs": [],
   "source": [
    "results_histogram_100x150 = results_histogram.drop(results_histogram[results_histogram.m != 100].index)\n",
    "\n",
    "g = sns.barplot(data = results_histogram_100x150, x = 'input_file', y = 'time', hue = 'variant')\n",
    "g.set_ylabel(\"Time (ms)\", fontsize = 13)\n",
    "g.set_xlabel(\"Pixel distribution\", fontsize = 13)\n",
    "plt.savefig('./data/graphs/histogram_results_pixel_distribution.pdf', dpi = 700, bbox_inches='tight')"
   ]
  },
  {
   "cell_type": "code",
   "execution_count": null,
   "id": "3b3f912d",
   "metadata": {},
   "outputs": [],
   "source": [
    "results_histogram_5000x5000 = results_histogram.drop(results_histogram[results_histogram.m != 5000].index)\n",
    "\n",
    "g = sns.barplot(data = results_histogram_5000x5000, x = 'time', y = 'variant', orient = 'h')\n",
    "g.set_ylabel(\"Time (ms)\", fontsize = 13)\n",
    "g.set_xlabel(\"Variant\", fontsize = 13)\n",
    "plt.savefig('./data/graphs/histogram_results_5000x5000.pdf', dpi = 700, bbox_inches='tight')"
   ]
  },
  {
   "cell_type": "code",
   "execution_count": null,
   "id": "7446f174",
   "metadata": {},
   "outputs": [],
   "source": []
  },
  {
   "cell_type": "code",
   "execution_count": null,
   "id": "c0be9043",
   "metadata": {},
   "outputs": [],
   "source": []
  },
  {
   "cell_type": "code",
   "execution_count": null,
   "id": "23185559",
   "metadata": {},
   "outputs": [],
   "source": []
  }
 ],
 "metadata": {
  "kernelspec": {
   "display_name": "Python 3 (ipykernel)",
   "language": "python",
   "name": "python3"
  },
  "language_info": {
   "codemirror_mode": {
    "name": "ipython",
    "version": 3
   },
   "file_extension": ".py",
   "mimetype": "text/x-python",
   "name": "python",
   "nbconvert_exporter": "python",
   "pygments_lexer": "ipython3",
   "version": "3.8.10"
  }
 },
 "nbformat": 4,
 "nbformat_minor": 5
}
