{
 "cells": [
  {
   "cell_type": "markdown",
   "id": "9ebdf565-65cf-438a-a294-cc3faeb51a2f",
   "metadata": {},
   "source": [
    "# Data analysis for assignment 1"
   ]
  },
  {
   "cell_type": "markdown",
   "id": "ae931413-7564-440f-ac5e-3fde5c1ae3d0",
   "metadata": {},
   "source": [
    "## Import packages"
   ]
  },
  {
   "cell_type": "markdown",
   "id": "2e6908d9-3819-421d-b0ee-22629a60dc29",
   "metadata": {},
   "source": [
    "For this analysis, we need pandas for data manipulation and seaborn for plotting. Matplotlib is sometimes useful in tandem with seaborn because it exposes some lower-level plotting functions."
   ]
  },
  {
   "cell_type": "code",
   "execution_count": null,
   "id": "df5ed824-758d-4453-99a7-1132f1758d8a",
   "metadata": {},
   "outputs": [],
   "source": [
    "import pandas as pd\n",
    "import matplotlib.pyplot as plt\n",
    "import seaborn as sns"
   ]
  },
  {
   "cell_type": "markdown",
   "id": "7ea3bc9b-05d0-4383-b545-7903d5dd74e4",
   "metadata": {},
   "source": [
    "## Load data"
   ]
  },
  {
   "cell_type": "code",
   "execution_count": null,
   "id": "567ed4af-4ea3-4e62-95e0-c094db512951",
   "metadata": {},
   "outputs": [],
   "source": [
    "results = pd.read_csv('./results.csv')\n",
    "results"
   ]
  },
  {
   "cell_type": "code",
   "execution_count": null,
   "id": "cfedb990-0995-4e0a-bd1c-8f6d1b29839c",
   "metadata": {},
   "outputs": [],
   "source": []
  }
 ],
 "metadata": {
  "kernelspec": {
   "display_name": "Python 3 (ipykernel)",
   "language": "python",
   "name": "python3"
  },
  "language_info": {
   "codemirror_mode": {
    "name": "ipython",
    "version": 3
   },
   "file_extension": ".py",
   "mimetype": "text/x-python",
   "name": "python",
   "nbconvert_exporter": "python",
   "pygments_lexer": "ipython3",
   "version": "3.8.10"
  }
 },
 "nbformat": 4,
 "nbformat_minor": 5
}
