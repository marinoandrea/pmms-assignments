{
 "cells": [
  {
   "cell_type": "markdown",
   "id": "9ebdf565-65cf-438a-a294-cc3faeb51a2f",
   "metadata": {},
   "source": [
    "# Data analysis for assignment 2"
   ]
  },
  {
   "cell_type": "markdown",
   "id": "ae931413-7564-440f-ac5e-3fde5c1ae3d0",
   "metadata": {},
   "source": [
    "## Import packages"
   ]
  },
  {
   "cell_type": "markdown",
   "id": "2e6908d9-3819-421d-b0ee-22629a60dc29",
   "metadata": {},
   "source": [
    "For this analysis, we need pandas for data manipulation and seaborn for plotting. Matplotlib is sometimes useful in tandem with seaborn because it exposes some lower-level plotting functions."
   ]
  },
  {
   "cell_type": "code",
   "execution_count": null,
   "id": "df5ed824-758d-4453-99a7-1132f1758d8a",
   "metadata": {},
   "outputs": [],
   "source": [
    "import pandas as pd\n",
    "import matplotlib.pyplot as plt\n",
    "import seaborn as sns"
   ]
  },
  {
   "cell_type": "markdown",
   "id": "7ea3bc9b-05d0-4383-b545-7903d5dd74e4",
   "metadata": {},
   "source": [
    "## Load data"
   ]
  },
  {
   "cell_type": "code",
   "execution_count": null,
   "id": "567ed4af-4ea3-4e62-95e0-c094db512951",
   "metadata": {},
   "outputs": [],
   "source": [
    "results_combined_parallelism = pd.read_csv('./data/raw/results_combined_parallelism.tsv', sep = '\\t')\n",
    "results_combined_parallelism = results_combined_parallelism.replace('parallel_combined', 'Combined task and data parallelism')\n",
    "results_combined_parallelism = results_combined_parallelism.replace('sequential_with_parallel_mergesort', 'Task parallelism')\n",
    "results_combined_parallelism = results_combined_parallelism.replace('parallel', 'Data parallelism')\n",
    "results_combined_parallelism = results_combined_parallelism.replace('sequential', 'No parallelism')\n",
    "\n",
    "results_combined_parallelism = results_combined_parallelism.drop('idx', axis=1)\n",
    "\n",
    "results_combined_parallelism"
   ]
  },
  {
   "cell_type": "code",
   "execution_count": null,
   "id": "7e2a8fa3",
   "metadata": {},
   "outputs": [],
   "source": [
    "results_scheduling = pd.read_csv('./data/raw/results_scheduling.tsv', sep = '\\t')\n",
    "results_scheduling = results_scheduling.replace('sequential', 'No parallelism')\n",
    "results_scheduling = results_scheduling.replace('parallel_static', 'Static scheduling, chunk size 100')\n",
    "results_scheduling = results_scheduling.replace('parallel_dynamic_small_chunk_size', 'Dynamic scheduling, chunk size 10')\n",
    "results_scheduling = results_scheduling.replace('parallel_dynamic_medium_chunk_size', 'Dynamic scheduling, chunk size 50')\n",
    "results_scheduling = results_scheduling.replace('parallel_dynamic_large_chunk_size', 'Dynamic scheduling, large chunk 100')\n",
    "results_scheduling = results_scheduling.replace('parallel_guided_small_chunk_size', 'Guided scheduling, chunk size 10')\n",
    "results_scheduling = results_scheduling.replace('parallel_guided_medium_chunk_size', 'Guided scheduling, chunk size 50')\n",
    "results_scheduling = results_scheduling.replace('parallel_guided_large_chunk_size', 'Guided scheduling, chunk size 100')\n",
    "\n",
    "results_scheduling = results_scheduling.drop('idx', axis=1)\n",
    "\n",
    "results_scheduling"
   ]
  },
  {
   "cell_type": "code",
   "execution_count": null,
   "id": "a0f449c9",
   "metadata": {},
   "outputs": [],
   "source": [
    "results_input_size_small = pd.read_csv('./data/raw/results_input_size_small.tsv', sep = '\\t')\n",
    "results_input_size_medium = pd.read_csv('./data/raw/results_input_size_medium.tsv', sep = '\\t')\n",
    "results_input_size_large = pd.read_csv('./data/raw/results_input_size_large.tsv', sep = '\\t')\n",
    "\n",
    "results_input_size_small = results_input_size_small.drop('idx', axis=1)\n",
    "results_input_size_medium = results_input_size_medium.drop('idx', axis=1)\n",
    "results_input_size_large = results_input_size_large.drop('idx', axis=1)\n",
    "\n",
    "results_input_size_small['range'] = results_input_size_small['inner_max'] - results_input_size_small['inner_min']\n",
    "results_input_size_medium['range'] = results_input_size_medium['inner_max'] - results_input_size_medium['inner_min']\n",
    "results_input_size_large['range'] = results_input_size_large['inner_max'] - results_input_size_large['inner_min']\n",
    "\n",
    "results_input_size = pd.concat([\n",
    "  results_input_size_small,\n",
    "  results_input_size_medium,\n",
    "  results_input_size_large\n",
    "], ignore_index = True)\n",
    "\n",
    "results_input_size"
   ]
  },
  {
   "cell_type": "code",
   "execution_count": null,
   "id": "a0a0f30f",
   "metadata": {},
   "outputs": [],
   "source": [
    "results_extra = pd.read_csv('./data/raw/results_extra.tsv', sep = '\\t')\n",
    "results_extra = results_extra.replace('parallel_presorted', 'Pre-sorted')\n",
    "results_extra = results_extra.replace('parallel_autovectorized', 'Autovectorized')\n",
    "\n",
    "results_extra = results_extra.drop('idx', axis=1)\n",
    "\n",
    "results_extra = results_extra.replace('sequential', 'Sequential')\n",
    "results_extra = results_extra.replace('parallel', 'Parallel (dynamic, 100)')\n",
    "\n",
    "results_extra"
   ]
  },
  {
   "cell_type": "code",
   "execution_count": null,
   "id": "c8ac38c8",
   "metadata": {},
   "outputs": [],
   "source": [
    "# Concatenate all of the separate input files\n",
    "results = pd.concat([\n",
    "  results_combined_parallelism,\n",
    "  results_scheduling,\n",
    "  results_input_size,\n",
    "  results_extra\n",
    "])\n",
    "\n",
    "# Preview combined data\n",
    "results"
   ]
  },
  {
   "cell_type": "code",
   "execution_count": null,
   "id": "445d9da9-6f62-40df-86d5-c3d054e7a9f8",
   "metadata": {},
   "outputs": [],
   "source": [
    "sns.set_theme(style=\"whitegrid\")\n",
    "sns.set_palette(\"tab10\")"
   ]
  },
  {
   "cell_type": "markdown",
   "id": "cfedb990-0995-4e0a-bd1c-8f6d1b29839c",
   "metadata": {},
   "source": []
  },
  {
   "cell_type": "code",
   "execution_count": null,
   "id": "0ee9ab2d-1b5b-48a8-a8a2-1bf78984563b",
   "metadata": {},
   "outputs": [],
   "source": [
    "results_combined_parallelism = results_combined_parallelism.rename(columns={'version': 'Parallelism type'})\n",
    "g = sns.lineplot(data = results_combined_parallelism, x = 'outer', y = 'time', hue = 'Parallelism type', marker = 'o')\n",
    "g.set_ylabel(\"Time (s)\", fontsize = 13)\n",
    "g.set_xlabel(\"Size of outer vector\", fontsize = 13)\n",
    "plt.xscale('log')\n",
    "plt.savefig('./data/graphs/combined_parallelism.pdf', dpi = 700, bbox_inches='tight')"
   ]
  },
  {
   "cell_type": "code",
   "execution_count": null,
   "id": "5c5df2f4",
   "metadata": {},
   "outputs": [],
   "source": [
    "results_input_size = results_input_size.rename(columns={'outer': 'Size of outer vector'})\n",
    "g = sns.barplot(data = results_input_size, x = 'range', y = 'time', hue = 'Size of outer vector')\n",
    "g.set_ylabel(\"Time (s)\", fontsize = 13)\n",
    "g.set_xlabel(\"Difference between min. and max. inner vector size\", fontsize = 13)\n",
    "plt.yscale('log')\n",
    "plt.savefig('./data/graphs/inner_vector_size.pdf', dpi = 700, bbox_inches='tight')"
   ]
  },
  {
   "cell_type": "code",
   "execution_count": null,
   "metadata": {},
   "outputs": [],
   "source": [
    "results_scheduling = results_scheduling.rename(columns={'version': 'Scheduling strategy'})\n",
    "g = sns.barplot(data = results_scheduling, x = 'outer', y = 'time', hue = 'Scheduling strategy')\n",
    "g.set_ylabel(\"Time (s)\", fontsize = 13)\n",
    "g.set_xlabel(\"Size of outer vector\", fontsize = 13)\n",
    "sns.move_legend(g, \"upper left\", bbox_to_anchor=(1, 1))\n",
    "plt.yscale('log')\n",
    "plt.savefig('./data/graphs/scheduling.pdf', dpi = 700, bbox_inches='tight')"
   ]
  },
  {
   "cell_type": "code",
   "execution_count": null,
   "id": "49392d60",
   "metadata": {},
   "outputs": [],
   "source": [
    "results_extra = results_extra.rename(columns={'version': 'Condition'})\n",
    "g = sns.barplot(data = results_extra, x = 'outer', y = 'time', hue = 'Condition')\n",
    "g.set_ylabel(\"Time (s)\", fontsize = 13)\n",
    "g.set_xlabel(\"Size of outer vector\", fontsize = 13)\n",
    "plt.yscale('log')\n",
    "plt.savefig('./data/graphs/additional_research.pdf', dpi = 700, bbox_inches='tight')"
   ]
  },
  {
   "cell_type": "code",
   "execution_count": null,
   "id": "7478855a",
   "metadata": {},
   "outputs": [],
   "source": []
  }
 ],
 "metadata": {
  "kernelspec": {
   "display_name": "Python 3 (ipykernel)",
   "language": "python",
   "name": "python3"
  },
  "language_info": {
   "codemirror_mode": {
    "name": "ipython",
    "version": 3
   },
   "file_extension": ".py",
   "mimetype": "text/x-python",
   "name": "python",
   "nbconvert_exporter": "python",
   "pygments_lexer": "ipython3",
   "version": "3.8.10"
  }
 },
 "nbformat": 4,
 "nbformat_minor": 5
}
